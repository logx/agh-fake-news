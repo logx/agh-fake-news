{
 "cells": [
  {
   "cell_type": "code",
   "execution_count": 23,
   "metadata": {
    "collapsed": true
   },
   "outputs": [],
   "source": [
    "from collections import defaultdict, Counter\n",
    "from src.attributes import count_misspellings, _is_misspelled\n",
    "from src.data import get_news"
   ]
  },
  {
   "cell_type": "code",
   "execution_count": 24,
   "outputs": [],
   "source": [
    "all_news = get_news()"
   ],
   "metadata": {
    "collapsed": false,
    "pycharm": {
     "name": "#%%\n"
    }
   }
  },
  {
   "cell_type": "code",
   "execution_count": 25,
   "outputs": [
    {
     "data": {
      "text/plain": "(0.1104014598540146, 0.10272986304727473)"
     },
     "execution_count": 25,
     "metadata": {},
     "output_type": "execute_result"
    }
   ],
   "source": [
    "# MISSPELLINGS\n",
    "\n",
    "typos = count_misspellings(all_news)\n",
    "\n",
    "summary = defaultdict(int)\n",
    "counter = Counter()\n",
    "\n",
    "for i, news in enumerate(all_news):\n",
    "    summary[news.is_true] += typos[i]\n",
    "    counter.update({news.is_true: 1})\n",
    "\n",
    "counter[True] / summary[True], counter[False] / summary[False]"
   ],
   "metadata": {
    "collapsed": false,
    "pycharm": {
     "name": "#%%\n"
    }
   }
  },
  {
   "cell_type": "code",
   "execution_count": 26,
   "outputs": [
    {
     "name": "stdout",
     "output_type": "stream",
     "text": [
      "factbox\n",
      "illiquid\n"
     ]
    }
   ],
   "source": [
    "# GET EXAMPLE MISSPELLED\n",
    "\n",
    "for word in all_news[700].all_text.lemmas:\n",
    "    if _is_misspelled(word):\n",
    "        print(word,)"
   ],
   "metadata": {
    "collapsed": false,
    "pycharm": {
     "name": "#%%\n"
    }
   }
  }
 ],
 "metadata": {
  "kernelspec": {
   "display_name": "Python 3",
   "language": "python",
   "name": "python3"
  },
  "language_info": {
   "codemirror_mode": {
    "name": "ipython",
    "version": 2
   },
   "file_extension": ".py",
   "mimetype": "text/x-python",
   "name": "python",
   "nbconvert_exporter": "python",
   "pygments_lexer": "ipython2",
   "version": "2.7.6"
  }
 },
 "nbformat": 4,
 "nbformat_minor": 0
}