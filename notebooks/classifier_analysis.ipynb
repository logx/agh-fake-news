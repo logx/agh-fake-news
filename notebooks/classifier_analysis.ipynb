{
 "cells": [
  {
   "cell_type": "code",
   "execution_count": 6,
   "metadata": {
    "collapsed": true
   },
   "outputs": [
    {
     "name": "stderr",
     "output_type": "stream",
     "text": [
      "[nltk_data] Downloading package vader_lexicon to\n",
      "[nltk_data]     /Users/pkardas/nltk_data...\n",
      "[nltk_data]   Package vader_lexicon is already up-to-date!\n",
      "INFO:root:Lemma loaded\n",
      "INFO:root:Fetching news...\n",
      "INFO:root:News available as binary file, loading...\n",
      "INFO:root:44888 news to transform\n",
      "INFO:root:'num_of_misspellings' available\n",
      "INFO:root:'num_of_unique_words' available\n",
      "INFO:root:'num_of_sentences' available\n",
      "INFO:root:'avg_num_of_adjectives' available\n",
      "INFO:root:'avg_num_of_nouns' available\n",
      "INFO:root:'avg_num_of_verbs' available\n",
      "INFO:root:'news_length' available\n",
      "INFO:root:'news_sentiment' available\n",
      "INFO:root:'news_subjectivity' available\n",
      "INFO:root:Finished extracting features\n",
      "INFO:root:Lemma saved\n"
     ]
    },
    {
     "name": "stdout",
     "output_type": "stream",
     "text": [
      "LogisticRegression\n",
      "  Recall    Accuracy    Precision    F1    ROC AUC\n",
      "--------  ----------  -----------  ----  ---------\n",
      "   0.747       0.698        0.695  0.72      0.696\n",
      "\n",
      "RandomForestClassifier\n",
      "  Recall    Accuracy    Precision     F1    ROC AUC\n",
      "--------  ----------  -----------  -----  ---------\n",
      "   0.876       0.863        0.862  0.869      0.863\n",
      "\n",
      "GradientBoostingClassifier\n",
      "  Recall    Accuracy    Precision     F1    ROC AUC\n",
      "--------  ----------  -----------  -----  ---------\n",
      "   0.799       0.813        0.834  0.816      0.814\n",
      "\n",
      "ExtraTreesClassifier\n",
      "  Recall    Accuracy    Precision     F1    ROC AUC\n",
      "--------  ----------  -----------  -----  ---------\n",
      "   0.863       0.864        0.874  0.868      0.864\n",
      "\n",
      "VotingClassifier\n",
      "  Recall    Accuracy    Precision    F1    ROC AUC\n",
      "--------  ----------  -----------  ----  ---------\n",
      "   0.815       0.839        0.867  0.84       0.84\n",
      "\n",
      "VotingClassifier\n",
      "  Recall    Accuracy    Precision     F1    ROC AUC\n",
      "--------  ----------  -----------  -----  ---------\n",
      "   0.883       0.861        0.855  0.869       0.86\n",
      "\n"
     ]
    }
   ],
   "source": [
    "import numpy as np\n",
    "from sklearn.ensemble import RandomForestClassifier\n",
    "from sklearn.model_selection import train_test_split\n",
    "from tabulate import tabulate\n",
    "\n",
    "from src.attributes import pipeline\n",
    "from src.data import get_news, get_news_labels"
   ]
  },
  {
   "cell_type": "code",
   "execution_count": 2,
   "outputs": [],
   "source": [
    "all_news = get_news()\n",
    "labels = get_news_labels(all_news)\n",
    "\n",
    "transformed_news = pipeline.fit_transform(all_news)\n",
    "\n",
    "x_train, x_test, y_train, y_test = train_test_split(transformed_news, labels, shuffle=True, random_state=42)"
   ],
   "metadata": {
    "collapsed": false,
    "pycharm": {
     "name": "#%%\n"
    }
   }
  },
  {
   "cell_type": "code",
   "execution_count": 3,
   "outputs": [
    {
     "data": {
      "text/plain": "RandomForestClassifier()"
     },
     "execution_count": 3,
     "metadata": {},
     "output_type": "execute_result"
    }
   ],
   "source": [
    "classifier = RandomForestClassifier()\n",
    "classifier.fit(x_train, y_train)"
   ],
   "metadata": {
    "collapsed": false,
    "pycharm": {
     "name": "#%%\n"
    }
   }
  },
  {
   "cell_type": "code",
   "execution_count": 5,
   "outputs": [
    {
     "name": "stdout",
     "output_type": "stream",
     "text": [
      "  num_of_misspellings    num_of_unique_words    num_of_sentences    avg_num_of_adjectives    avg_num_of_nouns    avg_num_of_verbs    news_length    news_sentiment    news_subjectivity\n",
      "---------------------  ---------------------  ------------------  -----------------------  ------------------  ------------------  -------------  ----------------  -------------------\n",
      "                0.044                 0.0924              0.0467                   0.0773               0.133              0.1035         0.0963            0.2062               0.2006\n",
      "[0.044, 0.0924, 0.0467, 0.0773, 0.133, 0.1035, 0.0963, 0.2062, 0.2006]\n"
     ]
    }
   ],
   "source": [
    "features = {\n",
    "    \"num_of_misspellings\": 0,\n",
    "    \"num_of_unique_words\": 1,\n",
    "    \"num_of_sentences\": 2,\n",
    "    \"avg_num_of_adjectives\": 3,\n",
    "    \"avg_num_of_nouns\": 4,\n",
    "    \"avg_num_of_verbs\": 5,\n",
    "    \"news_length\" : 6,\n",
    "    \"news_sentiment\": (7, 9),\n",
    "    \"news_subjectivity\": 10,\n",
    "    # \"top_frequent_bigrams\": (11, 650)\n",
    "}\n",
    "\n",
    "columns = list(features.keys())\n",
    "data = []\n",
    "\n",
    "for feature, indices in features.items():\n",
    "    if isinstance(indices, int):\n",
    "        value = classifier.feature_importances_[indices]\n",
    "    else:\n",
    "        start, end = indices\n",
    "        value = np.sum(classifier.feature_importances_[start: end + 1])\n",
    "\n",
    "    data.append(round(value, 4))\n",
    "\n",
    "print(tabulate(headers=columns, tabular_data=[data]))\n",
    "print(data)\n"
   ],
   "metadata": {
    "collapsed": false,
    "pycharm": {
     "name": "#%%\n"
    }
   }
  }
 ],
 "metadata": {
  "kernelspec": {
   "display_name": "Python 3",
   "language": "python",
   "name": "python3"
  },
  "language_info": {
   "codemirror_mode": {
    "name": "ipython",
    "version": 2
   },
   "file_extension": ".py",
   "mimetype": "text/x-python",
   "name": "python",
   "nbconvert_exporter": "python",
   "pygments_lexer": "ipython2",
   "version": "2.7.6"
  }
 },
 "nbformat": 4,
 "nbformat_minor": 0
}